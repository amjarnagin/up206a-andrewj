{
 "cells": [
  {
   "cell_type": "markdown",
   "metadata": {},
   "source": [
    "## Data Exploration (Week 2 Assignment)\n",
    "In this notebook, I will import a dataset from LA Metro that shows the transit agency's Bus Rapid Transit (BRT) lines. Then, I'll use some basic functions from the geopandas library to explore the features of the dataset."
   ]
  },
  {
   "cell_type": "code",
   "execution_count": 10,
   "metadata": {},
   "outputs": [],
   "source": [
    "# importing the geopands library\n",
    "import geopandas as gpd"
   ]
  },
  {
   "cell_type": "code",
   "execution_count": 11,
   "metadata": {},
   "outputs": [],
   "source": [
    "# creating a new variable to store the LA Metro shapefile data\n",
    "brt = gpd.read_file('data/RapidBRT1219.shp')"
   ]
  },
  {
   "cell_type": "code",
   "execution_count": 6,
   "metadata": {},
   "outputs": [
    {
     "data": {
      "text/plain": [
       "geopandas.geodataframe.GeoDataFrame"
      ]
     },
     "execution_count": 6,
     "metadata": {},
     "output_type": "execute_result"
    }
   ],
   "source": [
    "# what data type is the brt variable?\n",
    "type(brt)"
   ]
  },
  {
   "cell_type": "code",
   "execution_count": 7,
   "metadata": {},
   "outputs": [
    {
     "data": {
      "text/plain": [
       "(87, 5)"
      ]
     },
     "execution_count": 7,
     "metadata": {},
     "output_type": "execute_result"
    }
   ],
   "source": [
    "# what are the dimensions of the brt gdf? how many rows and columns?\n",
    "brt.shape"
   ]
  },
  {
   "cell_type": "code",
   "execution_count": 18,
   "metadata": {},
   "outputs": [
    {
     "data": {
      "text/plain": [
       "<bound method DataFrame.info of    VAR_ROUTE VAR_IDENT  VAR_DIREC                        VAR_DESCR  \\\n",
       "0        704        E1          2   END TO END - RAPID - TO DIV13O   \n",
       "1        704        E3          2                 NEBSEP Shortline   \n",
       "2        704        E6          2               TRIPS START SEPSAN   \n",
       "3        704        W1          3  END TO END- RAPID - FROM DIV13O   \n",
       "4        704        W3          3                 NEBSEP Shortline   \n",
       "..       ...       ...        ...                              ...   \n",
       "82       901        E2          2           CANOGA STATION LAYOVER   \n",
       "83       901        W1          3                       END TO END   \n",
       "84       901        W2          3           CANOGA STATION LAYOVER   \n",
       "85       910        N1          0                       END TO END   \n",
       "86       910        S1          1                             None   \n",
       "\n",
       "                                             geometry  \n",
       "0   LINESTRING (-118.49997 34.01574, -118.50054 34...  \n",
       "1   LINESTRING (-118.44327 34.04567, -118.44335 34...  \n",
       "2   LINESTRING (-118.44356 34.04791, -118.44354 34...  \n",
       "3   LINESTRING (-118.23190 34.05663, -118.23230 34...  \n",
       "4   LINESTRING (-118.38430 34.08485, -118.38471 34...  \n",
       "..                                                ...  \n",
       "82  LINESTRING (-118.59682 34.19051, -118.59747 34...  \n",
       "83  LINESTRING (-118.37799 34.16852, -118.37744 34...  \n",
       "84  LINESTRING (-118.57169 34.18742, -118.57207 34...  \n",
       "85  LINESTRING (-118.28798 33.72493, -118.28798 33...  \n",
       "86  LINESTRING (-118.04513 34.07202, -118.04598 34...  \n",
       "\n",
       "[87 rows x 5 columns]>"
      ]
     },
     "execution_count": 18,
     "metadata": {},
     "output_type": "execute_result"
    }
   ],
   "source": [
    "# I'm not sure why the .info function looks like this for the dataset - the .dtypes looks more useable to me in this instance\n",
    "# It looks like the dataset shows each line segment for the given route, which includes turnarounds at the line terminus\n",
    "brt.info"
   ]
  },
  {
   "cell_type": "code",
   "execution_count": 19,
   "metadata": {},
   "outputs": [
    {
     "data": {
      "text/plain": [
       "VAR_ROUTE      object\n",
       "VAR_IDENT      object\n",
       "VAR_DIREC       int64\n",
       "VAR_DESCR      object\n",
       "geometry     geometry\n",
       "dtype: object"
      ]
     },
     "execution_count": 19,
     "metadata": {},
     "output_type": "execute_result"
    }
   ],
   "source": [
    "brt.dtypes"
   ]
  },
  {
   "cell_type": "code",
   "execution_count": 18,
   "metadata": {},
   "outputs": [
    {
     "data": {
      "text/html": [
       "<div>\n",
       "<style scoped>\n",
       "    .dataframe tbody tr th:only-of-type {\n",
       "        vertical-align: middle;\n",
       "    }\n",
       "\n",
       "    .dataframe tbody tr th {\n",
       "        vertical-align: top;\n",
       "    }\n",
       "\n",
       "    .dataframe thead th {\n",
       "        text-align: right;\n",
       "    }\n",
       "</style>\n",
       "<table border=\"1\" class=\"dataframe\">\n",
       "  <thead>\n",
       "    <tr style=\"text-align: right;\">\n",
       "      <th></th>\n",
       "      <th>VAR_ROUTE</th>\n",
       "      <th>VAR_IDENT</th>\n",
       "      <th>VAR_DIREC</th>\n",
       "      <th>VAR_DESCR</th>\n",
       "      <th>geometry</th>\n",
       "    </tr>\n",
       "  </thead>\n",
       "  <tbody>\n",
       "    <tr>\n",
       "      <th>0</th>\n",
       "      <td>704</td>\n",
       "      <td>E1</td>\n",
       "      <td>2</td>\n",
       "      <td>END TO END - RAPID - TO DIV13O</td>\n",
       "      <td>LINESTRING (-118.49997 34.01574, -118.50054 34...</td>\n",
       "    </tr>\n",
       "    <tr>\n",
       "      <th>1</th>\n",
       "      <td>704</td>\n",
       "      <td>E3</td>\n",
       "      <td>2</td>\n",
       "      <td>NEBSEP Shortline</td>\n",
       "      <td>LINESTRING (-118.44327 34.04567, -118.44335 34...</td>\n",
       "    </tr>\n",
       "    <tr>\n",
       "      <th>2</th>\n",
       "      <td>704</td>\n",
       "      <td>E6</td>\n",
       "      <td>2</td>\n",
       "      <td>TRIPS START SEPSAN</td>\n",
       "      <td>LINESTRING (-118.44356 34.04791, -118.44354 34...</td>\n",
       "    </tr>\n",
       "    <tr>\n",
       "      <th>3</th>\n",
       "      <td>704</td>\n",
       "      <td>W1</td>\n",
       "      <td>3</td>\n",
       "      <td>END TO END- RAPID - FROM DIV13O</td>\n",
       "      <td>LINESTRING (-118.23190 34.05663, -118.23230 34...</td>\n",
       "    </tr>\n",
       "    <tr>\n",
       "      <th>4</th>\n",
       "      <td>704</td>\n",
       "      <td>W3</td>\n",
       "      <td>3</td>\n",
       "      <td>NEBSEP Shortline</td>\n",
       "      <td>LINESTRING (-118.38430 34.08485, -118.38471 34...</td>\n",
       "    </tr>\n",
       "    <tr>\n",
       "      <th>5</th>\n",
       "      <td>704</td>\n",
       "      <td>E1</td>\n",
       "      <td>2</td>\n",
       "      <td>END TO END - RAPID - TO DIV13O</td>\n",
       "      <td>LINESTRING (-118.23190 34.05663, -118.23230 34...</td>\n",
       "    </tr>\n",
       "    <tr>\n",
       "      <th>6</th>\n",
       "      <td>705</td>\n",
       "      <td>N1</td>\n",
       "      <td>0</td>\n",
       "      <td>RAPID</td>\n",
       "      <td>LINESTRING (-118.22745 34.00463, -118.22754 34...</td>\n",
       "    </tr>\n",
       "    <tr>\n",
       "      <th>7</th>\n",
       "      <td>705</td>\n",
       "      <td>NP</td>\n",
       "      <td>0</td>\n",
       "      <td>before PULL-IN</td>\n",
       "      <td>LINESTRING (-118.37612 34.06248, -118.37612 34...</td>\n",
       "    </tr>\n",
       "    <tr>\n",
       "      <th>8</th>\n",
       "      <td>705</td>\n",
       "      <td>S1</td>\n",
       "      <td>1</td>\n",
       "      <td>RAPID</td>\n",
       "      <td>LINESTRING (-118.38374 34.08426, -118.38375 34...</td>\n",
       "    </tr>\n",
       "    <tr>\n",
       "      <th>9</th>\n",
       "      <td>705</td>\n",
       "      <td>SP</td>\n",
       "      <td>1</td>\n",
       "      <td>after PULL-OUT</td>\n",
       "      <td>LINESTRING (-118.38373 34.08501, -118.38325 34...</td>\n",
       "    </tr>\n",
       "    <tr>\n",
       "      <th>10</th>\n",
       "      <td>710</td>\n",
       "      <td>N1</td>\n",
       "      <td>0</td>\n",
       "      <td>END TO END</td>\n",
       "      <td>LINESTRING (-118.35698 33.87176, -118.35696 33...</td>\n",
       "    </tr>\n",
       "    <tr>\n",
       "      <th>11</th>\n",
       "      <td>710</td>\n",
       "      <td>N3</td>\n",
       "      <td>0</td>\n",
       "      <td>WILWET</td>\n",
       "      <td>LINESTRING (-118.31864 34.06172, -118.31862 34...</td>\n",
       "    </tr>\n",
       "    <tr>\n",
       "      <th>12</th>\n",
       "      <td>710</td>\n",
       "      <td>S1</td>\n",
       "      <td>1</td>\n",
       "      <td>END TO END</td>\n",
       "      <td>LINESTRING (-118.30844 34.06309, -118.30784 34...</td>\n",
       "    </tr>\n",
       "    <tr>\n",
       "      <th>13</th>\n",
       "      <td>720</td>\n",
       "      <td>E1</td>\n",
       "      <td>2</td>\n",
       "      <td>END TO END</td>\n",
       "      <td>LINESTRING (-118.49027 34.01384, -118.49043 34...</td>\n",
       "    </tr>\n",
       "    <tr>\n",
       "      <th>14</th>\n",
       "      <td>720</td>\n",
       "      <td>E3</td>\n",
       "      <td>2</td>\n",
       "      <td>FEDERAL BLDG. L.O.</td>\n",
       "      <td>LINESTRING (-118.44719 34.05707, -118.44699 34...</td>\n",
       "    </tr>\n",
       "  </tbody>\n",
       "</table>\n",
       "</div>"
      ],
      "text/plain": [
       "   VAR_ROUTE VAR_IDENT  VAR_DIREC                        VAR_DESCR  \\\n",
       "0        704        E1          2   END TO END - RAPID - TO DIV13O   \n",
       "1        704        E3          2                 NEBSEP Shortline   \n",
       "2        704        E6          2               TRIPS START SEPSAN   \n",
       "3        704        W1          3  END TO END- RAPID - FROM DIV13O   \n",
       "4        704        W3          3                 NEBSEP Shortline   \n",
       "5        704        E1          2   END TO END - RAPID - TO DIV13O   \n",
       "6        705        N1          0                            RAPID   \n",
       "7        705        NP          0                   before PULL-IN   \n",
       "8        705        S1          1                            RAPID   \n",
       "9        705        SP          1                   after PULL-OUT   \n",
       "10       710        N1          0                       END TO END   \n",
       "11       710        N3          0                           WILWET   \n",
       "12       710        S1          1                       END TO END   \n",
       "13       720        E1          2                       END TO END   \n",
       "14       720        E3          2               FEDERAL BLDG. L.O.   \n",
       "\n",
       "                                             geometry  \n",
       "0   LINESTRING (-118.49997 34.01574, -118.50054 34...  \n",
       "1   LINESTRING (-118.44327 34.04567, -118.44335 34...  \n",
       "2   LINESTRING (-118.44356 34.04791, -118.44354 34...  \n",
       "3   LINESTRING (-118.23190 34.05663, -118.23230 34...  \n",
       "4   LINESTRING (-118.38430 34.08485, -118.38471 34...  \n",
       "5   LINESTRING (-118.23190 34.05663, -118.23230 34...  \n",
       "6   LINESTRING (-118.22745 34.00463, -118.22754 34...  \n",
       "7   LINESTRING (-118.37612 34.06248, -118.37612 34...  \n",
       "8   LINESTRING (-118.38374 34.08426, -118.38375 34...  \n",
       "9   LINESTRING (-118.38373 34.08501, -118.38325 34...  \n",
       "10  LINESTRING (-118.35698 33.87176, -118.35696 33...  \n",
       "11  LINESTRING (-118.31864 34.06172, -118.31862 34...  \n",
       "12  LINESTRING (-118.30844 34.06309, -118.30784 34...  \n",
       "13  LINESTRING (-118.49027 34.01384, -118.49043 34...  \n",
       "14  LINESTRING (-118.44719 34.05707, -118.44699 34...  "
      ]
     },
     "execution_count": 18,
     "metadata": {},
     "output_type": "execute_result"
    }
   ],
   "source": [
    "# let's see what the first 15 rows look like\n",
    "brt.head(15)"
   ]
  },
  {
   "cell_type": "code",
   "execution_count": 10,
   "metadata": {},
   "outputs": [
    {
     "data": {
      "text/plain": [
       "<matplotlib.axes._subplots.AxesSubplot at 0x7fdab998f970>"
      ]
     },
     "execution_count": 10,
     "metadata": {},
     "output_type": "execute_result"
    },
    {
     "data": {
      "image/png": "[encoded data removed]",
      "text/plain": [
       "<Figure size 432x288 with 1 Axes>"
      ]
     },
     "metadata": {
      "needs_background": "light"
     },
     "output_type": "display_data"
    }
   ],
   "source": [
    "# to see what this data looks like with its coordinates\n",
    "brt.plot()"
   ]
  },
  {
   "cell_type": "code",
   "execution_count": 12,
   "metadata": {},
   "outputs": [
    {
     "data": {
      "text/plain": [
       "720    10\n",
       "745     7\n",
       "704     6\n",
       "728     5\n",
       "744     5\n",
       "762     4\n",
       "780     4\n",
       "734     4\n",
       "901     4\n",
       "733     4\n",
       "754     4\n",
       "760     4\n",
       "705     4\n",
       "740     3\n",
       "750     3\n",
       "770     3\n",
       "710     3\n",
       "751     2\n",
       "757     2\n",
       "910     2\n",
       "794     2\n",
       "788     2\n",
       "Name: VAR_ROUTE, dtype: int64"
      ]
     },
     "execution_count": 12,
     "metadata": {},
     "output_type": "execute_result"
    }
   ],
   "source": [
    "# how many rows of data exist for each bus route ('VAR_ROUTE')?\n",
    "brt['VAR_ROUTE'].value_counts()"
   ]
  },
  {
   "cell_type": "code",
   "execution_count": 14,
   "metadata": {},
   "outputs": [
    {
     "data": {
      "text/plain": [
       "<matplotlib.axes._subplots.AxesSubplot at 0x7f297adbe370>"
      ]
     },
     "execution_count": 14,
     "metadata": {},
     "output_type": "execute_result"
    },
    {
     "data": {
      "image/png": "[encoded data removed]",
      "text/plain": [
       "<Figure size 432x288 with 1 Axes>"
      ]
     },
     "metadata": {
      "needs_background": "light"
     },
     "output_type": "display_data"
    }
   ],
   "source": [
    "# I want to isolate the 720 line (one of several bus routes that serve the UCLA campus area!)\n",
    "# To do this, I create a variable called line_720 and use .loc to save only the rows whose VAR_ROUTE value is 720\n",
    "# To check my work, I plot the 720 line dataset, and it worked! The 720 runs east-west, mostly along the Wilshire corridor\n",
    "line_720 = brt.loc[brt['VAR_ROUTE'] == '720']\n",
    "line_720.plot()"
   ]
  },
  {
   "cell_type": "code",
   "execution_count": 20,
   "metadata": {},
   "outputs": [
    {
     "data": {
      "text/plain": [
       "<bound method DataFrame.info of    VAR_ROUTE VAR_IDENT  VAR_DIREC                   VAR_DESCR  \\\n",
       "13       720        E1          2                  END TO END   \n",
       "14       720        E3          2          FEDERAL BLDG. L.O.   \n",
       "15       720        E4          2            6TH/CENTRAL L.O.   \n",
       "16       720        E5          2                   WILVER LO   \n",
       "17       720        E7          2          WHITTIER / HOEFNER   \n",
       "18       720        EB          2         WILSHIRE_BARRINGTON   \n",
       "19       720        W1          3                  END TO END   \n",
       "20       720        W2          3  3RD ST PROMENADE P/I & DHD   \n",
       "21       720        W3          3          FEDERAL BLDG. L.O.   \n",
       "22       720        W5          3                VERMONT L.O.   \n",
       "\n",
       "                                             geometry  \n",
       "13  LINESTRING (-118.49027 34.01384, -118.49043 34...  \n",
       "14  LINESTRING (-118.44719 34.05707, -118.44699 34...  \n",
       "15  LINESTRING (-118.29140 34.06181, -118.29030 34...  \n",
       "16  LINESTRING (-118.34633 34.06229, -118.34617 34...  \n",
       "17  LINESTRING (-118.21523 34.03418, -118.21485 34...  \n",
       "18  LINESTRING (-118.46105 34.04936, -118.46087 34...  \n",
       "19  LINESTRING (-118.15417 34.01864, -118.15403 34...  \n",
       "20  LINESTRING (-118.48877 34.02689, -118.48888 34...  \n",
       "21  LINESTRING (-118.40898 34.06709, -118.40948 34...  \n",
       "22  LINESTRING (-118.28949 34.06226, -118.28991 34...  >"
      ]
     },
     "execution_count": 20,
     "metadata": {},
     "output_type": "execute_result"
    }
   ],
   "source": [
    "# I want to zoom in on the 720 route info to get a better idea of what I'm working with\n",
    "line_720.info"
   ]
  },
  {
   "cell_type": "code",
   "execution_count": 34,
   "metadata": {},
   "outputs": [
    {
     "data": {
      "text/plain": [
       "<matplotlib.axes._subplots.AxesSubplot at 0x7f2976b37bb0>"
      ]
     },
     "execution_count": 34,
     "metadata": {},
     "output_type": "execute_result"
    },
    {
     "data": {
      "image/png": "[encoded data removed]",
      "text/plain": [
       "<Figure size 432x288 with 1 Axes>"
      ]
     },
     "metadata": {
      "needs_background": "light"
     },
     "output_type": "display_data"
    }
   ],
   "source": [
    "# testing out isolating an 'End to End' row to see how/if it differs from other rows for the 720 line\n",
    "line_720_test = line_720.query(\"VAR_IDENT == 'W1' | VAR_DESCR == 'END TO END'\")\n",
    "line_720_test.plot()"
   ]
  },
  {
   "cell_type": "code",
   "execution_count": null,
   "metadata": {},
   "outputs": [],
   "source": []
  }
 ],
 "metadata": {
  "kernelspec": {
   "display_name": "Python 3",
   "language": "python",
   "name": "python3"
  },
  "language_info": {
   "codemirror_mode": {
    "name": "ipython",
    "version": 3
   },
   "file_extension": ".py",
   "mimetype": "text/x-python",
   "name": "python",
   "nbconvert_exporter": "python",
   "pygments_lexer": "ipython3",
   "version": "3.8.5"
  },
  "toc": {
   "base_numbering": 1,
   "nav_menu": {},
   "number_sections": true,
   "sideBar": true,
   "skip_h1_title": false,
   "title_cell": "Table of Contents",
   "title_sidebar": "Contents",
   "toc_cell": false,
   "toc_position": {},
   "toc_section_display": true,
   "toc_window_display": false
  }
 },
 "nbformat": 4,
 "nbformat_minor": 4
}
